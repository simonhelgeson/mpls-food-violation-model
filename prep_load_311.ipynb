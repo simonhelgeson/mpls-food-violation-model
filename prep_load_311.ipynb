{
 "cells": [
  {
   "cell_type": "code",
   "execution_count": 133,
   "metadata": {},
   "outputs": [],
   "source": [
    "import pandas as pd\n",
    "import geopandas as gpd\n",
    "import fiona"
   ]
  },
  {
   "cell_type": "code",
   "execution_count": 10,
   "metadata": {},
   "outputs": [],
   "source": [
    "url_311 = {  \n",
    "2019: \"https://opendata.arcgis.com/datasets/80ac366a2a954cdc890bb8728b698c27_0.geojson\",\n",
    "2018: \"https://opendata.arcgis.com/datasets/3dd40fe4a3084021a06c01208e6b0c60_0.geojson\",\n",
    "2017: \"https://opendata.arcgis.com/datasets/f978834f53bc43e88a294bb404360a64_0.geojson\",\n",
    "2016: \"https://opendata.arcgis.com/datasets/9ec6339588bf433589b6ea77a9a01514_0.geojson\",\n",
    "2015: \"https://opendata.arcgis.com/datasets/b2fad8490dcb43b18185c380c8caf4cc_0.geojson\",\n",
    "2014: \"https://opendata.arcgis.com/datasets/b5d2dc0952594afcabcd0f84bceef1d8_0.geojson\"\n",
    "}"
   ]
  },
  {
   "cell_type": "code",
   "execution_count": 37,
   "metadata": {},
   "outputs": [],
   "source": [
    "def merge_311(url_311):\n",
    "    df_dict={}\n",
    "    for i in url_311.keys():\n",
    "        df = gpd.read_file(url_311.get(i))\n",
    "        df_dict.update({i:df})\n",
    "    return(df_dict)"
   ]
  },
  {
   "cell_type": "code",
   "execution_count": 38,
   "metadata": {},
   "outputs": [],
   "source": [
    "df_dict_311=merge_311(url_311)"
   ]
  },
  {
   "cell_type": "code",
   "execution_count": 156,
   "metadata": {},
   "outputs": [],
   "source": [
    "df=gpd.GeoDataFrame(pd.concat(list(df_dict_311.values()), \n",
    "                              ignore_index=True, \n",
    "                              sort=True), \n",
    "                    crs=list(df_dict_311.values())[0].crs)"
   ]
  },
  {
   "cell_type": "code",
   "execution_count": 157,
   "metadata": {},
   "outputs": [
    {
     "data": {
      "text/plain": [
       "CASEID               int64\n",
       "CASESTATUS           int64\n",
       "CLOSEDDATETIME      object\n",
       "ENQUIRYTYPEID      float64\n",
       "LastUpdateDate      object\n",
       "OBJECTID             int64\n",
       "OPENEDDATETIME      object\n",
       "REASONNAME          object\n",
       "SUBJECTNAME         object\n",
       "TITLE               object\n",
       "TYPENAME            object\n",
       "XCOORD             float64\n",
       "YCOORD             float64\n",
       "geometry          geometry\n",
       "dtype: object"
      ]
     },
     "execution_count": 157,
     "metadata": {},
     "output_type": "execute_result"
    }
   ],
   "source": [
    "df.dtypes"
   ]
  },
  {
   "cell_type": "code",
   "execution_count": 158,
   "metadata": {},
   "outputs": [
    {
     "data": {
      "text/plain": [
       "Traffic Control                    106162\n",
       "Private Property                    60447\n",
       "Snow & Ice                          39582\n",
       "Animal Control                      28091\n",
       "Graffiti / Clean City               27020\n",
       "Street Maintenance                  20382\n",
       "Unhealthy Conditions                10677\n",
       "Traffic                              7240\n",
       "Lighting                             6802\n",
       "Complaints                           5648\n",
       "Garbage & Recycling                  4941\n",
       "Sewer & Storm Drain                  3341\n",
       "Commercial / Business Licensing      3205\n",
       "Biking                               2486\n",
       "Construction Inspections             2329\n",
       "Street Cleaning / Sweeping           1956\n",
       "Commercial Property                  1801\n",
       "Fire                                 1769\n",
       "Inspection                           1614\n",
       "Parking                              1414\n",
       "Police                               1127\n",
       "Water                                1064\n",
       "Traffic Safety                        485\n",
       "Zoning                                424\n",
       "Green Spaces - Public                 282\n",
       "Truth in Sale of Housing               55\n",
       "Bridges                                24\n",
       "Name: REASONNAME, dtype: int64"
      ]
     },
     "execution_count": 158,
     "metadata": {},
     "output_type": "execute_result"
    }
   ],
   "source": [
    "df.REASONNAME.value_counts()"
   ]
  },
  {
   "cell_type": "code",
   "execution_count": 159,
   "metadata": {},
   "outputs": [
    {
     "data": {
      "text/plain": [
       "['Abandoned Vehicle',\n",
       " 'Abandoned Vehicle - Open311',\n",
       " 'Abandoned/Illegally Parked Bicycle',\n",
       " 'Air Pollution Complaint',\n",
       " 'Animal Complaint - Livability',\n",
       " 'Animal Complaint - Public Health',\n",
       " 'Barricade Pickup / Placement',\n",
       " 'Bicycle Lane Issue',\n",
       " 'Bicycle Trail Improvement Request',\n",
       " 'Bike Lane Issue - Open311',\n",
       " 'Bridge Complaint',\n",
       " 'Campaign Sign Complaint',\n",
       " 'Certificate of Code Compliance Request',\n",
       " 'Certificate of Occupancy Request',\n",
       " 'Chemical Spill',\n",
       " 'Commercial Disability Zone',\n",
       " 'Commercial Food Safety/Sanitation Complaint',\n",
       " 'Commercial Structure Unsound',\n",
       " 'Commercial/Mixed Conditions Complaint',\n",
       " 'Debris Alley/Street - Open311',\n",
       " 'Debris in the Street or Alley',\n",
       " 'Emergency Pollution Complaint',\n",
       " 'Exterior Nuisance - Self Service',\n",
       " 'Exterior Nuisance Complaint',\n",
       " 'Fence or Guardrail Maintenance',\n",
       " 'Fire Hydrant Snow Issue',\n",
       " 'Fire Rig Visit Request',\n",
       " 'Full TISH Report Request',\n",
       " 'General Street Complaint',\n",
       " 'Graffiti - Open311',\n",
       " 'Graffiti complaint / reporting',\n",
       " 'Grass & Weed Complaint',\n",
       " 'Hoarding',\n",
       " 'Homeless Encampment',\n",
       " 'Hydrant Issue',\n",
       " 'Illegal Dumping Complaint',\n",
       " 'Inoperable Vehicle Complaint',\n",
       " 'K9 Appearance Request',\n",
       " 'Land Pollution Complaint',\n",
       " 'Licensing Complaint',\n",
       " 'Neighborhood Parking Information',\n",
       " 'Newspaper Box Complaint',\n",
       " 'Noise Pollution Complaint',\n",
       " 'Parking Meter - Open311',\n",
       " 'Parking Meter Problem',\n",
       " 'Parking Ramp/Lot Issue',\n",
       " 'Parking Violation - Open311',\n",
       " 'Parking Violation Complaint',\n",
       " 'Police Mounted Patrol Request',\n",
       " 'Pothole',\n",
       " 'Pothole - Open311',\n",
       " 'RHOD Conditions Complaint',\n",
       " 'RHOD Exterior Nuisance Complaint',\n",
       " 'RHOD Tenant Conditions Complaint',\n",
       " 'Repair Notice Question',\n",
       " 'Residential Conditions Complaint',\n",
       " 'Residential Conditions Complaint HOD',\n",
       " 'Residential Conditions Complaint HOD Tenant',\n",
       " 'Residential Conditions Complaint Tenant',\n",
       " 'Residential Disability Zone',\n",
       " 'Sewer Issues',\n",
       " 'Sidewalk Obstruction Complaint',\n",
       " 'Sidewalk Snow & Ice Complaint',\n",
       " 'Sidewalk Snow Ice - Open311',\n",
       " 'Sidewalk Snow and Ice - SS',\n",
       " 'Sidewalk Structural - Open311',\n",
       " 'Sidewalk Structural Complaint',\n",
       " 'Sign Complaint',\n",
       " 'Snow & Ice Complaint',\n",
       " 'Snow - Illegal Dumping',\n",
       " 'Solid Waste Overflow Litter',\n",
       " 'Solid Waste Overflowing Litter - Open311',\n",
       " 'Special Sweep',\n",
       " 'Speed Hump Request',\n",
       " 'Speed Wagon',\n",
       " 'Sport Equip in Street',\n",
       " 'Street Light - New',\n",
       " 'Street Light Outage',\n",
       " 'Street Light Outage - Open311',\n",
       " 'Street Light Trouble',\n",
       " 'Street Light Trouble - Open311',\n",
       " 'Street Light Wreck - Open311',\n",
       " 'Street Light Wreck/Damage',\n",
       " 'Streets Snow & Ice - Open311',\n",
       " 'Traffic Sign - New',\n",
       " 'Traffic Sign - Removal',\n",
       " 'Traffic Sign - Repair',\n",
       " 'Traffic Sign Repair - Open311',\n",
       " 'Traffic Signal - New/Modification',\n",
       " 'Traffic Signal Timing - Open311',\n",
       " 'Traffic Signal Timing Issue',\n",
       " 'Traffic Signal Trouble',\n",
       " 'Traffic Signal Trouble - Open311',\n",
       " 'Trees Down',\n",
       " 'Unpermitted Work',\n",
       " 'Unpermitted Work - Self Service',\n",
       " 'Urgent Pollution Complaint',\n",
       " 'Vacant Building / Open to Trespass',\n",
       " 'Vacant Building / Open to Trespass Boarded',\n",
       " 'Water Main Break',\n",
       " 'Water Pollution Complaint']"
      ]
     },
     "execution_count": 159,
     "metadata": {},
     "output_type": "execute_result"
    }
   ],
   "source": [
    "pd.set_option('display.max_rows', 150)\n",
    "sorted(df.TYPENAME.unique())"
   ]
  },
  {
   "cell_type": "code",
   "execution_count": 160,
   "metadata": {},
   "outputs": [],
   "source": [
    "def prepare_311(df):\n",
    "    df=df[df['TYPENAME'].isin(['Solid Waste Overflow Litter','Solid Waste Overflowing Litter - Open311','Commercial Food Safety/Sanitation Complaint'])]\n",
    "    df=df[df.CASESTATUS==0]\n",
    "    df['OPENEDDATETIME']=pd.to_datetime(df.OPENEDDATETIME)\n",
    "    df['CLOSEDDATETIME']=pd.to_datetime(df.CLOSEDDATETIME)\n",
    "    df=df.drop_duplicates()\n",
    "    df=df[['CLOSEDDATETIME','OPENEDDATETIME','REASONNAME','TYPENAME','geometry']]\n",
    "    df['case_duration']=df.CLOSEDDATETIME-df.OPENEDDATETIME\n",
    "    return(df)"
   ]
  },
  {
   "cell_type": "code",
   "execution_count": 161,
   "metadata": {},
   "outputs": [],
   "source": [
    "df=prepare_311(df)"
   ]
  },
  {
   "cell_type": "code",
   "execution_count": 115,
   "metadata": {},
   "outputs": [],
   "source": [
    "df.to_pickle('311_data.pickle')"
   ]
  }
 ],
 "metadata": {
  "kernelspec": {
   "display_name": "Python 3",
   "language": "python",
   "name": "python3"
  },
  "language_info": {
   "codemirror_mode": {
    "name": "ipython",
    "version": 3
   },
   "file_extension": ".py",
   "mimetype": "text/x-python",
   "name": "python",
   "nbconvert_exporter": "python",
   "pygments_lexer": "ipython3",
   "version": "3.7.7"
  }
 },
 "nbformat": 4,
 "nbformat_minor": 2
}

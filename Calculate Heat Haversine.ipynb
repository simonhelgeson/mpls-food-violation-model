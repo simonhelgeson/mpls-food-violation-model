{
 "cells": [
  {
   "cell_type": "code",
   "execution_count": null,
   "metadata": {},
   "outputs": [],
   "source": [
    "# def calculate_heat_haversine(df_inspect, df_to_score, bw=.005, window=90):\n",
    "#     '''Calculates heat values for input date'''\n",
    "#     scoreableDf=np.deg2rad(df_to_score[['latitude','longitude']])\n",
    "#     scoreDf=np.deg2rad(df_inspect[['latitude','longitude']])\n",
    "#     heat=[]\n",
    "#     for i in range(0,1000):\n",
    "#         index_start = (scoreDf.index[i]-pd.Timedelta(window,'D')).strftime(\"%Y-%m-%d\")\n",
    "#         index_end = scoreDf.index[i].strftime(\"%Y-%m-%d\")\n",
    "#         locations_to_fit = scoreableDf.loc[index_start:index_end]\n",
    "#         kde=KernelDensity(kernel='gaussian', bandwidth=bw, metric=\"euclidean\", algorithm=\"ball_tree\")\n",
    "#         kernel=kde.fit(locations_to_fit)\n",
    "#         inspection=scoreDf.iloc[i:i+1]\n",
    "#         log_pdf=kernel.score_samples(inspection)\n",
    "#         heat.append(np.exp(log_pdf))\n",
    "#     return(heat)"
   ]
  }
 ],
 "metadata": {
  "kernelspec": {
   "display_name": "Python 3",
   "language": "python",
   "name": "python3"
  },
  "language_info": {
   "codemirror_mode": {
    "name": "ipython",
    "version": 3
   },
   "file_extension": ".py",
   "mimetype": "text/x-python",
   "name": "python",
   "nbconvert_exporter": "python",
   "pygments_lexer": "ipython3",
   "version": "3.7.7"
  }
 },
 "nbformat": 4,
 "nbformat_minor": 4
}
